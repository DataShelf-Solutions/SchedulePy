{
 "cells": [
  {
   "cell_type": "code",
   "execution_count": 78,
   "id": "initial_id",
   "metadata": {
    "collapsed": true,
    "ExecuteTime": {
     "end_time": "2024-08-21T14:42:48.818485100Z",
     "start_time": "2024-08-21T14:42:48.762884600Z"
    }
   },
   "outputs": [],
   "source": [
    "import threading\n",
    "from datetime import datetime, timedelta, timezone"
   ]
  },
  {
   "cell_type": "code",
   "outputs": [
    {
     "name": "stdout",
     "output_type": "stream",
     "text": [
      "3\n",
      "Function report2 is running.\n",
      "Function report3 is running.\n"
     ]
    }
   ],
   "source": [
    "import threading\n",
    "from datetime import datetime, timedelta, timezone\n",
    "\n",
    "class Scheduler:\n",
    "    \"\"\"\n",
    "    A class to represent a schedule for jobs with start and end dates.\n",
    "    \n",
    "    Attributes:\n",
    "    -----------\n",
    "    threading : boolean \n",
    "        Whether or not to use threading while running the jobs \n",
    "    \n",
    "    Methods:\n",
    "    --------\n",
    "    job():\n",
    "        Method to create and configure a job\n",
    "    run_all():\n",
    "        Runs all jobs with or without threading\n",
    "    \"\"\"\n",
    "\n",
    "    def __init__(self, threading=False):\n",
    "        self.threads = threading\n",
    "        self.jobs = []\n",
    "\n",
    "    def job(self, startdate=None, time_zone=None):\n",
    "        \"\"\"\n",
    "        Method to create a new job with specified startdate and timezone.\n",
    "\n",
    "        Parameters:\n",
    "        -----------\n",
    "        startdate : str or datetime, optional\n",
    "            The start date and time of the job. Defaults to current date and time if not provided.\n",
    "        time_zone : int, optional\n",
    "            The timezone offset in hours. Defaults to the system's local timezone if not provided.\n",
    "        \n",
    "        Returns:\n",
    "        --------\n",
    "        An object representing the job with methods to configure it.\n",
    "        \"\"\"\n",
    "\n",
    "        startdate = startdate if startdate else datetime.now().strftime('%Y-%m-%d %H:%M')\n",
    "        startdate = datetime.strptime(startdate, '%Y-%m-%d %H:%M')\n",
    "\n",
    "        if time_zone is not None:\n",
    "            time_zone = timezone(timedelta(hours=time_zone))\n",
    "            startdate = startdate.astimezone(time_zone)\n",
    "        else:\n",
    "            time_zone = datetime.now().astimezone().tzinfo\n",
    "            startdate = startdate.astimezone(time_zone)\n",
    "\n",
    "        if startdate.strftime('%Y-%m-%d %H:%M') < datetime.now().strftime('%Y-%m-%d %H:%M'):\n",
    "            raise ValueError(\"Startdate cannot be less than the current date\")\n",
    "\n",
    "        job = {\n",
    "            'startdate': startdate,\n",
    "            'time_zone': time_zone,\n",
    "            'enddate': None,\n",
    "            'func': None,\n",
    "            'name': None,\n",
    "            'unit': None,\n",
    "            'interval': None,\n",
    "            'next_run': None,\n",
    "            'args': (),\n",
    "            'kwargs': {}\n",
    "        }\n",
    "\n",
    "        class JobWrapper:\n",
    "            def __init__(self, job):\n",
    "                self.job = job\n",
    "\n",
    "            def second(self):\n",
    "                self.job['unit'] = 'second'\n",
    "                return self\n",
    "\n",
    "            def do(self, func, name):\n",
    "                self.job['func'] = func\n",
    "                self.job['name'] = name\n",
    "                return self\n",
    "\n",
    "            def every(self, interval):\n",
    "                self.job['interval'] = interval\n",
    "                return self\n",
    "\n",
    "            def until(self, enddate):\n",
    "                enddate = datetime.strptime(enddate, '%Y-%m-%d %H:%M')\n",
    "                enddate = enddate.astimezone(self.job['time_zone'])\n",
    "                if enddate < self.job['startdate']:\n",
    "                    raise ValueError('Startdate must be earlier than Enddate')\n",
    "                self.job['enddate'] = enddate\n",
    "                return self\n",
    "\n",
    "            def calculate_next_run(self, current_time):\n",
    "                if self.job['unit'] == 'second':\n",
    "                    self.job['next_run'] = current_time + timedelta(seconds=self.job['interval'])\n",
    "                else:\n",
    "                    raise ValueError(\"Unsupported unit. Please extend the `calculate_next_run` method to support other units.\")\n",
    "                return self.job['next_run']\n",
    "\n",
    "            def run(self, *args, **kwargs):\n",
    "                if self.job['func']:\n",
    "                    self.job['func'](*args, **kwargs)\n",
    "                else:\n",
    "                    raise AttributeError('Function must be passed as an attribute for code to run')\n",
    "\n",
    "        job_wrapper = JobWrapper(job)\n",
    "        self.jobs.append(job_wrapper)\n",
    "        return job_wrapper\n",
    "\n",
    "    def run_all(self):\n",
    "        if self.threads:\n",
    "            threads = []\n",
    "            for job in self.jobs:\n",
    "                thread = threading.Thread(target=job.run)\n",
    "                threads.append(thread)\n",
    "                thread.start()\n",
    "            for thread in threads:\n",
    "                thread.join()\n",
    "        else:\n",
    "            for job in self.jobs:\n",
    "                job.run()\n",
    "\n",
    "\n",
    "# Example functions\n",
    "def report1(num1=1, num2=2):\n",
    "    print(num1 + num2)\n",
    "\n",
    "def report2():\n",
    "    print(\"Function report2 is running.\")\n",
    "\n",
    "def report3():\n",
    "    print(\"Function report3 is running.\")\n",
    "\n",
    "# Creating Scheduler instance\n",
    "scheduler = Scheduler(threading=False)\n",
    "\n",
    "# Creating jobs using Scheduler's job method\n",
    "scheduler.job(startdate='2024-08-22 10:00', time_zone=4).do(report1, 'report1').every(1).second().until('2024-08-22 10:00')\n",
    "scheduler.job(startdate='2024-08-22 10:00', time_zone=5).do(report2, 'report2').every(1).second().until('2024-08-22 10:00')\n",
    "scheduler.job(startdate='2024-08-22 10:00', time_zone=10).do(report3, 'report3').every(2).second().until('2024-08-22 10:00')\n",
    "\n",
    "# Running all jobs\n",
    "scheduler.run_all()\n",
    "\n"
   ],
   "metadata": {
    "collapsed": false,
    "ExecuteTime": {
     "end_time": "2024-08-21T14:42:48.820667100Z",
     "start_time": "2024-08-21T14:42:48.782341Z"
    }
   },
   "id": "d7a46fdcc9bc3e73",
   "execution_count": 79
  },
  {
   "cell_type": "code",
   "outputs": [],
   "source": [
    "import threading\n",
    "from datetime import datetime, timedelta, timezone\n",
    "\n",
    "class Scheduler:\n",
    "    \"\"\"\n",
    "    A class to represent a schedule for jobs with start and end dates.\n",
    "    \n",
    "    Attributes:\n",
    "    -----------\n",
    "    threading : boolean \n",
    "        Whether or not to use threading while running the jobs \n",
    "    \n",
    "    Methods:\n",
    "    --------\n",
    "    job():\n",
    "        Method to create and configure a job\n",
    "    run_all():\n",
    "        Runs all jobs with or without threading\n",
    "    \"\"\"\n",
    "\n",
    "    def __init__(self, threading=False, scstartdate = None, sctimezone=None):\n",
    "        self.threads = threading  # determines if threadig should happen of no \n",
    "        self.startdatesc = datetime.strptime(scstartdate, '%Y-%m-%d %H:%M')  if scstartdate else datetime.strptime(datetime.now().strftime('%Y-%m-%d %H:%M'), '%Y-%m-%d %H:%M') # startdate for scheduler class if not passed it takes current time \n",
    "\n",
    "        \n",
    "        if sctimezone is not None:\n",
    "            # if timezone is passed as Scheduler's attribute it turns passed startdate for passed timezone time \n",
    "            self.timezonesc = timezone(timedelta(hours=sctimezone))\n",
    "            self.startdatesc = self.startdatesc.astimezone(self.timezonesc)\n",
    "        else:\n",
    "            # in any other cases it is taken current timezone\n",
    "            self.timezonesc = datetime.now().astimezone().tzinfo\n",
    "            self.startdatesc = self.startdatesc.astimezone(self.timezonesc)\n",
    "            \n",
    "        print(f'{self.startdatesc}\\n')\n",
    "        \n",
    "        # validating that passed startdate isn't more than current time\n",
    "        if  self.startdatesc.strftime('%Y-%m-%d %H:%M') < datetime.now().strftime('%Y-%m-%d %H:%M'):\n",
    "            raise ValueError(\"Startdate cannot be less than the current date\")\n",
    "        \n",
    "        self.__jobs = []  #idk if i am gonna use it at all \n",
    "\n",
    "    def job(self, jstartdate=None, jtimezone=None):\n",
    "        if jstartdate is not None and jtimezone is None:\n",
    "            if isinstance(jstartdate, str):\n",
    "                jtimezone = self.timezonesc\n",
    "                jstartdate = datetime.strptime(jstartdate, '%Y-%m-%d %H:%M').astimezone(jtimezone)\n",
    "                print(f'stdate has value, timezone none {jstartdate}')\n",
    "            else:\n",
    "                jtimezone = self.timezonesc\n",
    "                jstartdate = jstartdate.astimezone(jtimezone)\n",
    "                print(f'stdate has value, timezone none but isnance dattetime{jstartdate}')\n",
    "                \n",
    "            print(f'\\n\\n')\n",
    "    \n",
    "        elif jstartdate is not None and jtimezone is not None: \n",
    "            if isinstance(jstartdate, str):\n",
    "                jtimezone = timezone(timedelta(hours=jtimezone))\n",
    "                jstartdate = datetime.strptime(jstartdate, '%Y-%m-%d %H:%M').astimezone(jtimezone)\n",
    "                print(f'stdate has value, timezone has value {jstartdate}')\n",
    "            else:\n",
    "                jtimezone = timezone(timedelta(hours=jtimezone))\n",
    "                jstartdate = jstartdate.astimezone(jtimezone)\n",
    "                print(f'stdate has value, timezone has value instance is dadetime {jstartdate}')\n",
    "            print(f'\\n\\n')\n",
    "        elif jstartdate is None and jtimezone is not None:\n",
    "            jstartdate = self.startdatesc\n",
    "            if isinstance(jstartdate, str):\n",
    "                jtimezone = timezone(timedelta(hours=jtimezone))\n",
    "                jstartdate = datetime.strptime(jstartdate, '%Y-%m-%d %H:').astimezone(jtimezone)\n",
    "                print(f'stdate is non, timezone has value {jstartdate}')\n",
    "            else:\n",
    "                jtimezone = timezone(timedelta(hours=jtimezone))\n",
    "                jstartdate = jstartdate.astimezone(jtimezone)\n",
    "                print(f'stdate is none, timezone has value instance is datetime {jstartdate}')\n",
    "            print(f'\\n\\n')\n",
    "        elif jstartdate is None and jtimezone is None:\n",
    "            jstartdate = self.startdatesc\n",
    "            if isinstance(jstartdate, str):\n",
    "                jtimezone = self.timezonesc\n",
    "                jstartdate = datetime.strptime(jstartdate, '%Y-%m-%d %H:').astimezone(jtimezone)\n",
    "                print(f'stdate is non, timezone is none {jstartdate}')\n",
    "            else:\n",
    "                jtimezone = self.timezonesc\n",
    "                jstartdate = jstartdate.astimezone(jtimezone)\n",
    "                print(f'stdate is non, timezone is none isntance is datetime {jstartdate}')\n",
    "            print(f'\\n\\n')\n",
    "    \n",
    "        else:\n",
    "            raise AttributeError(f\"You need to check Job's passed attributes, there is mismatch\")\n",
    "\n",
    "        "
   ],
   "metadata": {
    "collapsed": false,
    "ExecuteTime": {
     "end_time": "2024-08-21T16:45:44.621227100Z",
     "start_time": "2024-08-21T16:45:44.610300900Z"
    }
   },
   "id": "b8f20769df1a3f13",
   "execution_count": 135
  },
  {
   "cell_type": "code",
   "outputs": [],
   "source": [
    "# Example functions\n",
    "def report1(num1=1,num2 = 2):\n",
    "    print(num1+num2)\n",
    "\n",
    "def report2():\n",
    "    print(\"Function report2 is running.\")\n",
    "\n",
    "def report3():\n",
    "    print(\"Function report3 is running.\")"
   ],
   "metadata": {
    "collapsed": false
   },
   "id": "1ecf03a4b06633fb"
  },
  {
   "cell_type": "code",
   "outputs": [
    {
     "name": "stdout",
     "output_type": "stream",
     "text": [
      "2024-08-22 15:10:00+05:00\n",
      "\n",
      "stdate is none, timezone has value instance is datetime 2024-08-22 16:10:00+06:00\n",
      "\n",
      "\n",
      "\n",
      "stdate has value, timezone none 2024-08-22 18:10:00+05:00\n",
      "\n",
      "\n",
      "\n",
      "stdate is non, timezone is none isntance is datetime 2024-08-22 15:10:00+05:00\n",
      "\n",
      "\n",
      "\n",
      "stdate has value, timezone has value 2024-08-22 23:10:00+07:00\n"
     ]
    }
   ],
   "source": [
    "\n",
    "scheduler = Scheduler(threading=False,scstartdate='2024-08-22 14:10', sctimezone=5)\n",
    "\n",
    "scheduler.job(jtimezone=6)\n",
    "scheduler.job(jstartdate='2024-08-22 17:10')\n",
    "scheduler.job()\n",
    "scheduler.job(jstartdate='2024-08-22 20:10', jtimezone=7)\n",
    "\n"
   ],
   "metadata": {
    "collapsed": false,
    "ExecuteTime": {
     "end_time": "2024-08-21T16:45:45.068642700Z",
     "start_time": "2024-08-21T16:45:45.063922900Z"
    }
   },
   "id": "cc2227c981885c11",
   "execution_count": 136
  },
  {
   "cell_type": "code",
   "outputs": [],
   "source": [
    "\n",
    "date_str = \"2024-08-21 14:30:00\"\n",
    "date_obj = datetime.strptime(date_str, \"%Y-%m-%d %H:%M:%S\")\n"
   ],
   "metadata": {
    "collapsed": false,
    "ExecuteTime": {
     "start_time": "2024-08-21T14:42:48.816333100Z"
    }
   },
   "id": "db97d434739f1fd",
   "execution_count": null
  },
  {
   "cell_type": "code",
   "outputs": [
    {
     "data": {
      "text/plain": "datetime.datetime"
     },
     "execution_count": 82,
     "metadata": {},
     "output_type": "execute_result"
    }
   ],
   "source": [
    "type(date_obj)"
   ],
   "metadata": {
    "collapsed": false,
    "ExecuteTime": {
     "end_time": "2024-08-21T14:42:48.857267800Z",
     "start_time": "2024-08-21T14:42:48.828666600Z"
    }
   },
   "id": "c20b7d4f117420b5",
   "execution_count": 82
  },
  {
   "cell_type": "code",
   "outputs": [
    {
     "data": {
      "text/plain": "datetime.datetime(2024, 8, 21, 18, 42)"
     },
     "execution_count": 83,
     "metadata": {},
     "output_type": "execute_result"
    }
   ],
   "source": [
    "datetime.now().replace(second=0, microsecond=0)\n"
   ],
   "metadata": {
    "collapsed": false,
    "ExecuteTime": {
     "end_time": "2024-08-21T14:42:48.906374500Z",
     "start_time": "2024-08-21T14:42:48.859640900Z"
    }
   },
   "id": "9a7fdbb80d8cb481",
   "execution_count": 83
  },
  {
   "cell_type": "code",
   "outputs": [],
   "source": [],
   "metadata": {
    "collapsed": false,
    "ExecuteTime": {
     "end_time": "2024-08-21T14:42:48.935721900Z",
     "start_time": "2024-08-21T14:42:48.911114400Z"
    }
   },
   "id": "f5b4a567ce6273bf",
   "execution_count": 83
  }
 ],
 "metadata": {
  "kernelspec": {
   "display_name": "Python 3",
   "language": "python",
   "name": "python3"
  },
  "language_info": {
   "codemirror_mode": {
    "name": "ipython",
    "version": 2
   },
   "file_extension": ".py",
   "mimetype": "text/x-python",
   "name": "python",
   "nbconvert_exporter": "python",
   "pygments_lexer": "ipython2",
   "version": "2.7.6"
  }
 },
 "nbformat": 4,
 "nbformat_minor": 5
}
