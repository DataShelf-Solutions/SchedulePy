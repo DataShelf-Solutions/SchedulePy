{
 "cells": [
  {
   "cell_type": "code",
   "outputs": [],
   "source": [
    "from datetime import datetime, timedelta, timezone\n",
    "import threading\n",
    "import time "
   ],
   "metadata": {
    "collapsed": false,
    "ExecuteTime": {
     "end_time": "2024-08-13T07:45:18.283817500Z",
     "start_time": "2024-08-13T07:45:18.279140100Z"
    }
   },
   "id": "cac63fba5eff201a",
   "execution_count": 1
  },
  {
   "cell_type": "code",
   "outputs": [],
   "source": [
    "class Scheduler:\n",
    "    \"\"\"\n",
    "    A class to represent a schedule for a job with a start and end date.\n",
    "    \n",
    "    Attributes:\n",
    "    -----------\n",
    "    stdate : str or datetime\n",
    "        The start date and time of the schedule. If not provided, defaults to the current date and time.\n",
    "    time_zone : str\n",
    "        The timezone of the schedule. Defaults to the current timezone of the computer.\n",
    "    \n",
    "    Methods:\n",
    "    --------\n",
    "    add_job():\n",
    "        Adds a job for running it \n",
    "    run_all():\n",
    "        Runs all jobs with ot without threading\n",
    "        \n",
    "    Raises:\n",
    "    -------\n",
    "    ValueError:\n",
    "        If Startdate is less than the current date.\n",
    "    \"\"\"\n",
    "\n",
    "    def __init__(self, threading=False, startdate=None, time_zone=None):\n",
    "        self.threads = threading\n",
    "        self.stdate = startdate if startdate else datetime.now().strftime('%Y-%m-%d %H:%M:%S')\n",
    "        self.stdate = datetime.strptime(self.stdate, '%Y-%m-%d %H:%M:%S')\n",
    "        self.jobs = []\n",
    "\n",
    "        if time_zone is not None:\n",
    "            self.time_zone = timezone(timedelta(hours=time_zone))\n",
    "        else:\n",
    "            # use the system's local timezone if no offset is provided\n",
    "            self.time_zone = datetime.now().astimezone().tzinfo\n",
    "\n",
    "        # checking if startdate is less than the current date\n",
    "        if self.stdate.strftime('%Y-%m-%d') < datetime.now().strftime('%Y-%m-%d'):\n",
    "            raise ValueError(\"Startdate cannot be less than the current date\")\n",
    "        \n",
    "        # counting time for specified timezone \n",
    "        startdate_with_timezone = self.stdate.astimezone(self.time_zone)\n",
    "\n",
    "\n",
    "\n",
    "\n",
    "############################# METHODS #############################\n",
    "    \n",
    "    ####### add_job ####### \n",
    "    def add_job(self, job):\n",
    "        # if the job doesn't have a startdate, use the scheduler's startdate\n",
    "        if job.startdate is None:\n",
    "            job.startdate = self.stdate\n",
    "            \n",
    "        # if the job doesn't have a time_zone, use the scheduler's time_zone\n",
    "        if job.time_zone is None:\n",
    "            job.time_zone = self.time_zone\n",
    "        # adding jobs \n",
    "        self.jobs.append(job)\n",
    "        return self\n",
    "\n",
    "\n",
    "    ####### run_all ####### \n",
    "    def run_all(self):\n",
    "        \n",
    "        # running jobs simultaneously when threads is true\n",
    "        if self.threads:\n",
    "            threads = []\n",
    "            for job in self.jobs:\n",
    "                # calling the Job run method for each thread\n",
    "                thread = threading.Thread(target=job.run)\n",
    "                threads.append(thread)\n",
    "                \n",
    "                # starting the execution of the thread\n",
    "                thread.start()\n",
    "            \n",
    "            # ensure that run_all doesn't finish until all jobs have completed their execution.\n",
    "            for thread in threads:\n",
    "                thread.join()\n",
    "        else:\n",
    "            for job in self.jobs:\n",
    "                # executing Job_s run method sequentially\n",
    "                job.run()\n"
   ],
   "metadata": {
    "collapsed": false,
    "ExecuteTime": {
     "end_time": "2024-08-13T07:45:18.305919900Z",
     "start_time": "2024-08-13T07:45:18.284972300Z"
    }
   },
   "id": "6ebc837d4d06cd9f",
   "execution_count": 2
  },
  {
   "cell_type": "code",
   "outputs": [
    {
     "name": "stdout",
     "output_type": "stream",
     "text": [
      " Job 1 started at 2024-08-14 12:16:33+05:00, timezone: UTC+05:00\n",
      " Job 2 started at 2024-08-14 11:16:33+04:00, timezone: Georgian Standard Time\n",
      " Job 1 completed Job 2 completed\n"
     ]
    }
   ],
   "source": [
    "# Example Job Class\n",
    "class Job:\n",
    "    def __init__(self, name, startdate =None, time_zone=None, duration=0):\n",
    "        self.name = name\n",
    "        self.startdate = startdate\n",
    "        self.time_zone =time_zone\n",
    "        self.duration = duration\n",
    "\n",
    "        # setting time_zone \n",
    "        if time_zone is not None:\n",
    "            self.time_zone = timezone(timedelta(hours=time_zone))\n",
    "        \n",
    "\n",
    "\n",
    "\n",
    "    \n",
    "    # რეალური რანის ფუნქცია მაქვს დასაწერი !!!!!!!!!!!\n",
    "    def run(self):\n",
    "        # checking if self.startdate is a string\n",
    "        if isinstance(self.startdate, str):\n",
    "            # converting the string to a datetime object\n",
    "            self.startdate = datetime.strptime(self.startdate, '%Y-%m-%d %H:%M:%S')\n",
    "        \n",
    "        # counting time for specified timezone \n",
    "        startdate_with_timezone = self.startdate.astimezone(self.time_zone)\n",
    "        print(f' {self.name} started at {startdate_with_timezone}, timezone: {self.time_zone}')\n",
    "        time.sleep(self.duration)\n",
    "        print(f' {self.name} completed')\n",
    "\n",
    "\n",
    "\n",
    "# Example Usage\n",
    "scheduler = Scheduler(threading=True, startdate='2024-08-14 11:16:33')\n",
    "scheduler.add_job(Job('Job 1', duration=1, time_zone=5))\n",
    "scheduler.add_job(Job('Job 2', startdate='2024-08-14 11:16:33', duration=1))\n",
    "\n",
    "scheduler.run_all()\n"
   ],
   "metadata": {
    "collapsed": false,
    "ExecuteTime": {
     "end_time": "2024-08-13T07:45:37.240705100Z",
     "start_time": "2024-08-13T07:45:36.226560800Z"
    }
   },
   "id": "c55b53951083b50",
   "execution_count": 6
  },
  {
   "cell_type": "code",
   "outputs": [],
   "source": [],
   "metadata": {
    "collapsed": false,
    "ExecuteTime": {
     "end_time": "2024-08-13T07:45:33.743465700Z",
     "start_time": "2024-08-13T07:45:33.738411300Z"
    }
   },
   "id": "3c267de1ee5f672b",
   "execution_count": 5
  },
  {
   "cell_type": "code",
   "outputs": [],
   "source": [],
   "metadata": {
    "collapsed": false,
    "ExecuteTime": {
     "end_time": "2024-08-13T07:45:19.328211400Z",
     "start_time": "2024-08-13T07:45:19.325655800Z"
    }
   },
   "id": "60744c8e3d8bd5cc",
   "execution_count": 3
  }
 ],
 "metadata": {
  "kernelspec": {
   "display_name": "Python 3",
   "language": "python",
   "name": "python3"
  },
  "language_info": {
   "codemirror_mode": {
    "name": "ipython",
    "version": 2
   },
   "file_extension": ".py",
   "mimetype": "text/x-python",
   "name": "python",
   "nbconvert_exporter": "python",
   "pygments_lexer": "ipython2",
   "version": "2.7.6"
  }
 },
 "nbformat": 4,
 "nbformat_minor": 5
}
