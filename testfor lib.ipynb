{
 "cells": [
  {
   "cell_type": "code",
   "outputs": [],
   "source": [
    "from datetime import datetime, timedelta, timezone\n",
    "import threading\n",
    "import time "
   ],
   "metadata": {
    "collapsed": false,
    "ExecuteTime": {
     "end_time": "2024-08-12T13:10:33.883775800Z",
     "start_time": "2024-08-12T13:10:33.874707700Z"
    }
   },
   "id": "cac63fba5eff201a",
   "execution_count": 1
  },
  {
   "cell_type": "code",
   "outputs": [],
   "source": [
    "class Scheduler:\n",
    "    \"\"\"\n",
    "    A class to represent a schedule for a job with a start and end date.\n",
    "    \n",
    "    Attributes:\n",
    "    -----------\n",
    "    stdate : str or datetime\n",
    "        The start date and time of the schedule. If not provided, defaults to the current date and time.\n",
    "    time_zone : str\n",
    "        The timezone of the schedule. Defaults to the current timezone of the computer.\n",
    "    \n",
    "    Methods:\n",
    "    --------\n",
    "    schedule():\n",
    "        Prints the start and end dates of the schedule.\n",
    "        \n",
    "    Raises:\n",
    "    -------\n",
    "    ValueError:\n",
    "        If Startdate is less than the current date.\n",
    "    \"\"\"\n",
    "\n",
    "    def __init__(self, threads=False, startdate=None, time_zone=None):\n",
    "        # Set the default timezone to the current timezone of the computer\n",
    "        self.threads = threads\n",
    "        self.stdate = startdate if startdate else datetime.now().strftime('%Y-%m-%d %H:%M:%S')\n",
    "        self.stdate = datetime.strptime(self.stdate, '%Y-%m-%d %H:%M:%S')\n",
    "        self.jobs = []\n",
    "\n",
    "        if time_zone is not None:\n",
    "            self.time_zone = timezone(timedelta(hours=time_zone))\n",
    "        else:\n",
    "            # Use the system's local timezone if no offset is provided\n",
    "            self.time_zone = datetime.now().astimezone().tzinfo\n",
    "\n",
    "        # Check if startdate is less than the current date\n",
    "        if self.stdate.strftime('%Y-%m-%d') < datetime.now().strftime('%Y-%m-%d'):\n",
    "            raise ValueError(\"Startdate cannot be less than the current date\")\n",
    "\n",
    "    def schedule(self):\n",
    "        \"\"\"\n",
    "        Prints the start and end dates of the schedule.\n",
    "        \"\"\"\n",
    "        stdate_with_timezone = self.stdate.astimezone(self.time_zone)\n",
    "        print(f'This is startdate: {stdate_with_timezone} in timezone: {self.time_zone}')\n",
    "        return self\n",
    "        \n",
    "    def add_job(self, job):\n",
    "        self.jobs.append(job)\n",
    "        return self\n",
    "\n",
    "    def run_all(self):\n",
    "        if self.threads:\n",
    "            # Run jobs simultaneously using threading\n",
    "            threads = []\n",
    "            for job in self.jobs:\n",
    "                thread = threading.Thread(target=job.run)\n",
    "                threads.append(thread)\n",
    "                thread.start()\n",
    "    \n",
    "            for thread in threads:\n",
    "                thread.join()  # Wait for all threads to finish\n",
    "        else:\n",
    "            # Run jobs sequentially\n",
    "            for job in self.jobs:\n",
    "                job.run()\n"
   ],
   "metadata": {
    "collapsed": false,
    "ExecuteTime": {
     "end_time": "2024-08-12T13:10:33.900202200Z",
     "start_time": "2024-08-12T13:10:33.886966700Z"
    }
   },
   "id": "6ebc837d4d06cd9f",
   "execution_count": 2
  },
  {
   "cell_type": "code",
   "outputs": [
    {
     "name": "stdout",
     "output_type": "stream",
     "text": [
      "Job Job 1 started\n",
      "Job Job 2 started\n",
      "Job Job 1 completed\n",
      "Job Job 2 completed\n"
     ]
    },
    {
     "data": {
      "text/plain": "<__main__.Scheduler at 0x1e50babc5d0>"
     },
     "execution_count": 4,
     "metadata": {},
     "output_type": "execute_result"
    }
   ],
   "source": [
    "# Example Job Class\n",
    "class Job:\n",
    "    def __init__(self, name, duration):\n",
    "        self.name = name\n",
    "        self.duration = duration\n",
    "\n",
    "    def run(self):\n",
    "        print(f'Job {self.name} started')\n",
    "        time.sleep(self.duration)\n",
    "        print(f'Job {self.name} completed')\n",
    "\n",
    "# Example Usage\n",
    "scheduler = Scheduler(threads=True)\n",
    "scheduler.add_job(Job('Job 1',2))\n",
    "scheduler.add_job(Job('Job 2',3))\n",
    "\n",
    "scheduler.run_all()\n",
    "\n",
    "# ეს ასე არ უნდა იყოს, ყველას ბოლოში უნდა ეწეერებოდეს გასაშვები ქომანდი მაგრამ ახლა ვერ ვფიქრობ მაგაზე!!!!!"
   ],
   "metadata": {
    "collapsed": false,
    "ExecuteTime": {
     "end_time": "2024-08-12T13:10:46.068382200Z",
     "start_time": "2024-08-12T13:10:43.049262700Z"
    }
   },
   "id": "c55b53951083b50",
   "execution_count": 4
  },
  {
   "cell_type": "code",
   "outputs": [],
   "source": [],
   "metadata": {
    "collapsed": false,
    "ExecuteTime": {
     "end_time": "2024-08-12T13:10:38.922873900Z",
     "start_time": "2024-08-12T13:10:38.917941700Z"
    }
   },
   "id": "3c267de1ee5f672b",
   "execution_count": 3
  }
 ],
 "metadata": {
  "kernelspec": {
   "display_name": "Python 3",
   "language": "python",
   "name": "python3"
  },
  "language_info": {
   "codemirror_mode": {
    "name": "ipython",
    "version": 2
   },
   "file_extension": ".py",
   "mimetype": "text/x-python",
   "name": "python",
   "nbconvert_exporter": "python",
   "pygments_lexer": "ipython2",
   "version": "2.7.6"
  }
 },
 "nbformat": 4,
 "nbformat_minor": 5
}
