{
 "cells": [
  {
   "cell_type": "code",
   "outputs": [],
   "source": [
    "from datetime import datetime, timedelta, timezone\n",
    "import threading\n",
    "import time \n"
   ],
   "metadata": {
    "collapsed": false,
    "ExecuteTime": {
     "end_time": "2024-08-13T10:35:28.724871400Z",
     "start_time": "2024-08-13T10:35:28.712744400Z"
    }
   },
   "id": "cac63fba5eff201a",
   "execution_count": 1
  },
  {
   "cell_type": "code",
   "outputs": [],
   "source": [
    "class Scheduler:\n",
    "    \"\"\"\n",
    "    A class to represent a schedule for a job with a start and end date.\n",
    "    \n",
    "    Attributes:\n",
    "    -----------\n",
    "    stdate : str or datetime\n",
    "        The start date and time of the schedule. If not provided, defaults to the current date and time.\n",
    "    time_zone : str\n",
    "        The timezone of the schedule. Defaults to the current timezone of the computer.\n",
    "    \n",
    "    Methods:\n",
    "    --------\n",
    "    add_job():\n",
    "        Adds a job for running it \n",
    "    run_all():\n",
    "        Runs all jobs with ot without threading\n",
    "        \n",
    "    Raises:\n",
    "    -------\n",
    "    ValueError:\n",
    "        If Startdate is less than the current date.\n",
    "    \"\"\"\n",
    "\n",
    "    def __init__(self, threading=False, startdate=None, time_zone=None):\n",
    "        self.threads = threading\n",
    "        self.stdate = startdate if startdate else datetime.now().strftime('%Y-%m-%d %H:%M:%S')\n",
    "        self.stdate = datetime.strptime(self.stdate, '%Y-%m-%d %H:%M:%S')\n",
    "        self.jobs = []\n",
    "\n",
    "        if time_zone is not None:\n",
    "            self.time_zone = timezone(timedelta(hours=time_zone))\n",
    "        else:\n",
    "            # use the system's local timezone if no offset is provided\n",
    "            self.time_zone = datetime.now().astimezone().tzinfo\n",
    "\n",
    "        # checking if startdate is less than the current date\n",
    "        if self.stdate.strftime('%Y-%m-%d') < datetime.now().strftime('%Y-%m-%d'):\n",
    "            raise ValueError(\"Startdate cannot be less than the current date\")\n",
    "        \n",
    "        # counting time for specified timezone \n",
    "        startdate_with_timezone = self.stdate.astimezone(self.time_zone)\n",
    "\n",
    "\n",
    "\n",
    "\n",
    "############################# METHODS #############################\n",
    "    \n",
    "    ####### add_job ####### \n",
    "    def add_job(self, job):\n",
    "        # if the job doesn't have a startdate, use the scheduler's startdate\n",
    "        if job.startdate is None:\n",
    "            job.startdate = self.stdate\n",
    "            \n",
    "        # if the job doesn't have a time_zone, use the scheduler's time_zone\n",
    "        if job.time_zone is None:\n",
    "            job.time_zone = self.time_zone\n",
    "        # adding jobs \n",
    "        self.jobs.append(job)\n",
    "        # print(job)\n",
    "        return self\n",
    "\n",
    "\n",
    "    ####### run_all ####### \n",
    "    def run_all(self):\n",
    "        \n",
    "        # running jobs simultaneously when threads is true\n",
    "        if self.threads:\n",
    "            threads = []\n",
    "            for job in self.jobs:\n",
    "                # calling the Job run method for each thread\n",
    "                thread = threading.Thread(target=job.run)\n",
    "                threads.append(thread)\n",
    "                \n",
    "                # starting the execution of the thread\n",
    "                thread.start()\n",
    "            \n",
    "            # ensure that run_all doesn't finish until all jobs have completed their execution.\n",
    "            for thread in threads:\n",
    "                thread.join()\n",
    "        else:\n",
    "            for job in self.jobs:\n",
    "                # print(f\"Running job: {job.func_name}\")\n",
    "                job.run()\n"
   ],
   "metadata": {
    "collapsed": false,
    "ExecuteTime": {
     "end_time": "2024-08-13T10:35:28.735486300Z",
     "start_time": "2024-08-13T10:35:28.726981700Z"
    }
   },
   "id": "6ebc837d4d06cd9f",
   "execution_count": 2
  },
  {
   "cell_type": "code",
   "outputs": [
    {
     "name": "stdout",
     "output_type": "stream",
     "text": [
      "Started at 2024-08-15 01:00:00-05:00, timezone: UTC-05:00\n",
      "Function report1 is running.\n",
      "Finished\n",
      "Started at 2024-08-15 08:00:00+02:00, timezone: UTC+02:00\n",
      "Function report2 is running.\n",
      "Finished\n",
      "Started at 2024-08-15 12:00:00+06:00, timezone: UTC+06:00\n",
      "Function report3 is running.\n",
      "Finished\n"
     ]
    }
   ],
   "source": [
    "# Example Job Class\n",
    "class Job:\n",
    "    def __init__(self, startdate =None, time_zone=None):\n",
    "        self.startdate = startdate\n",
    "        self.time_zone =time_zone\n",
    "        self.func = None\n",
    "        self.name = None\n",
    "\n",
    "        # setting time_zone \n",
    "        if time_zone is not None:\n",
    "            self.time_zone = timezone(timedelta(hours=time_zone))\n",
    "\n",
    "\n",
    "    \n",
    "    # რეალური რანის ფუნქცია მაქვს დასაწერი !!!!!!!!!!!\n",
    "\n",
    "    def run(self):\n",
    "        # Checking if self.startdate is a string\n",
    "        if isinstance(self.startdate, str):\n",
    "            # Converting the string to a datetime object\n",
    "            self.startdate = datetime.strptime(self.startdate, '%Y-%m-%d %H:%M:%S')\n",
    "\n",
    "        # Counting time for specified timezone \n",
    "        startdate_with_timezone = self.startdate.astimezone(self.time_zone)\n",
    "        print(f'Started at {startdate_with_timezone}, timezone: {self.time_zone}')\n",
    "        \n",
    "        if self.func is not None:\n",
    "            self.func()\n",
    "            print(f'Finished')\n",
    "        else:\n",
    "            print('IAMNOOOOOOOOOOOOOOOOOOOOOONEEEEEEEEEEEEEEEEEE')\n",
    "        time.sleep(5)\n",
    "        \n",
    "    def do(self, func, name):\n",
    "        self.func = func\n",
    "        self.name = name\n",
    "        return self\n",
    "\n",
    "# Example functions\n",
    "def report1():\n",
    "    print(\"Function report1 is running.\")\n",
    "\n",
    "\n",
    "def report2():\n",
    "    print(\"Function report2 is running.\")\n",
    "\n",
    "def report3():\n",
    "    print(\"Function report3 is running.\")\n",
    "\n",
    "# Create Job instances and associate functions with them\n",
    "job1 = Job(startdate='2024-08-15 10:00:00', time_zone=-5).do(report1, 'report1')\n",
    "job2 = Job(startdate='2024-08-15 10:00:00', time_zone=2).do(report2, 'report2')\n",
    "job3 = Job(startdate='2024-08-15 10:00:00', time_zone=6).do(report3, 'report3')\n",
    "\n",
    "\n",
    "# Now you can add these jobs to the Scheduler and run them\n",
    "scheduler = Scheduler(threading=True)\n",
    "scheduler.add_job(job1)\n",
    "scheduler.add_job(job2)\n",
    "scheduler.add_job(job3)\n",
    "scheduler.run_all()\n"
   ],
   "metadata": {
    "collapsed": false,
    "ExecuteTime": {
     "end_time": "2024-08-13T10:35:33.757645900Z",
     "start_time": "2024-08-13T10:35:28.739959900Z"
    }
   },
   "id": "c55b53951083b50",
   "execution_count": 3
  },
  {
   "cell_type": "code",
   "outputs": [],
   "source": [],
   "metadata": {
    "collapsed": false,
    "ExecuteTime": {
     "end_time": "2024-08-13T10:35:33.757645900Z",
     "start_time": "2024-08-13T10:35:33.753402900Z"
    }
   },
   "id": "61d05a36632e0c05",
   "execution_count": 3
  },
  {
   "cell_type": "code",
   "outputs": [],
   "source": [],
   "metadata": {
    "collapsed": false,
    "ExecuteTime": {
     "end_time": "2024-08-13T10:35:33.765894300Z",
     "start_time": "2024-08-13T10:35:33.759321500Z"
    }
   },
   "id": "3c267de1ee5f672b",
   "execution_count": 3
  },
  {
   "cell_type": "code",
   "outputs": [],
   "source": [],
   "metadata": {
    "collapsed": false,
    "ExecuteTime": {
     "end_time": "2024-08-13T10:35:33.766931800Z",
     "start_time": "2024-08-13T10:35:33.763608700Z"
    }
   },
   "id": "245f7d56dbc5c5a6",
   "execution_count": 3
  }
 ],
 "metadata": {
  "kernelspec": {
   "display_name": "Python 3",
   "language": "python",
   "name": "python3"
  },
  "language_info": {
   "codemirror_mode": {
    "name": "ipython",
    "version": 2
   },
   "file_extension": ".py",
   "mimetype": "text/x-python",
   "name": "python",
   "nbconvert_exporter": "python",
   "pygments_lexer": "ipython2",
   "version": "2.7.6"
  }
 },
 "nbformat": 4,
 "nbformat_minor": 5
}
