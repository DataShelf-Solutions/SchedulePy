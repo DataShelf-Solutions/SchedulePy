{
 "cells": [
  {
   "cell_type": "code",
   "execution_count": 16,
   "id": "initial_id",
   "metadata": {
    "collapsed": true,
    "ExecuteTime": {
     "end_time": "2024-09-16T08:04:42.860993300Z",
     "start_time": "2024-09-16T08:04:42.818466200Z"
    }
   },
   "outputs": [],
   "source": [
    "import pandas as pd\n",
    "import pyodbc\n",
    "from SchedulePy.Path import make_directory, current_path_and_path_list"
   ]
  },
  {
   "cell_type": "code",
   "outputs": [],
   "source": [
    "current_path, path_list = current_path_and_path_list()\n",
    "datapath = make_directory(str(current_path)+'\\\\Data\\\\')"
   ],
   "metadata": {
    "collapsed": false,
    "ExecuteTime": {
     "end_time": "2024-09-16T08:04:43.041617200Z",
     "start_time": "2024-09-16T08:04:43.017964600Z"
    }
   },
   "id": "cb3cbb12911b23e3",
   "execution_count": 17
  },
  {
   "cell_type": "code",
   "outputs": [],
   "source": [],
   "metadata": {
    "collapsed": false,
    "ExecuteTime": {
     "end_time": "2024-09-16T08:04:43.133315700Z",
     "start_time": "2024-09-16T08:04:43.117114900Z"
    }
   },
   "id": "dfde3cba41767e5d",
   "execution_count": 17
  },
  {
   "cell_type": "code",
   "outputs": [],
   "source": [
    "class Uploader:\n",
    "    def __init__(self, abspath, conn):\n",
    "        self.abspath = abspath\n",
    "        self.conn = conn\n",
    "        print(self.abspath, self.conn)\n",
    "        \n",
    "    def create_table(self,db=None):\n",
    "        if not db:\n",
    "            raise ValueError('db parameter is required')\n",
    "        self.db_name = db.split('.')[0]\n",
    "        self.schema = db.split('.')[1]\n",
    "        self.table_name = db.split('.')[2]\n",
    "\n",
    "        cursor = self.conn.cursor()\n",
    "        cursor.execute(f\"USE [{self.db_name}]\")\n",
    "        print(f\"Switched to database: {self.db_name}\")\n",
    "\n",
    "        print(self.db_name,self.schema,self.table_name)\n",
    "        \n",
    "        \n",
    "        # \n",
    "\n",
    "        # \n",
    "        # cursor.execute(f\"SELECT COUNT(*) FROM INFORMATION_SCHEMA.TABLES WHERE TABLE_NAME = '{self.table_name}'\")\n",
    "        # table_exists = cursor.fetchone()[0]\n",
    "        # if not table_exists:\n",
    "        #     print(self.table_name)\n",
    "        \n",
    "        \n",
    "        \n",
    "    "
   ],
   "metadata": {
    "collapsed": false,
    "ExecuteTime": {
     "end_time": "2024-09-16T08:04:43.291050300Z",
     "start_time": "2024-09-16T08:04:43.229643500Z"
    }
   },
   "id": "63d0b66de5d0c92e",
   "execution_count": 18
  },
  {
   "cell_type": "code",
   "outputs": [
    {
     "name": "stdout",
     "output_type": "stream",
     "text": [
      "None <pyodbc.Connection object at 0x000001ABE3D43840>\n",
      "Switched to database: WH_ScoringReports\n",
      "WH_ScoringReports idk pinkfloyd\n"
     ]
    }
   ],
   "source": [
    "# Connect to your SQL Server database\n",
    "# Connect to your SQL Server database\n",
    "# conn = pyodbc.connect('Driver={SQL Server};'\n",
    "#                       'Server=10.102.103.104;'\n",
    "#                       'Database=something;'\n",
    "\n",
    "uploader = Uploader(abspath=None,conn=conn)\n",
    "uploader.create_table(\"WH_ScoringReports.idk.pinkfloyd\")"
   ],
   "metadata": {
    "collapsed": false,
    "ExecuteTime": {
     "end_time": "2024-09-16T08:04:44.195886200Z",
     "start_time": "2024-09-16T08:04:44.141807300Z"
    }
   },
   "id": "cfd678d9a0860ede",
   "execution_count": 19
  },
  {
   "cell_type": "code",
   "outputs": [],
   "source": [],
   "metadata": {
    "collapsed": false,
    "ExecuteTime": {
     "end_time": "2024-09-16T08:02:32.751455200Z",
     "start_time": "2024-09-16T08:02:32.740570600Z"
    }
   },
   "id": "260103ca3b771b30",
   "execution_count": 14
  },
  {
   "cell_type": "code",
   "outputs": [],
   "source": [
    "# conn = pyodbc.connect('Driver={SQL Server};'\n",
    "#                       'Server=10.195.103.194;'\n",
    "#                       'Database=WH_ScoringReports;'\n",
    "#                       'Trusted_Connection=yes;')\n"
   ],
   "metadata": {
    "collapsed": false,
    "ExecuteTime": {
     "end_time": "2024-09-16T07:58:52.676634300Z",
     "start_time": "2024-09-16T07:58:52.667108300Z"
    }
   },
   "id": "6280b6c44262941a",
   "execution_count": 9
  },
  {
   "cell_type": "code",
   "outputs": [],
   "source": [
    "import pandas as pd\n",
    "import numpy as np\n",
    "\n",
    "# Generating sample data for a DataFrame about Pink Floyd\n",
    "data = {\n",
    "    'Album': ['The Dark Side of the Moon', 'Wish You Were Here', 'The Wall', np.nan, 'Animals'],\n",
    "    'Release Date': ['1973-03-01', '1975-09-12', '1979-11-30', np.nan, '1977-01-23'],\n",
    "    'Sales (Millions)': [45.0, 20.0, 30.0, np.nan, 12.0],\n",
    "    'Genre': ['Progressive Rock', 'Progressive Rock', 'Rock Opera', 'Rock', np.nan],\n",
    "    'Duration (Minutes)': [43.0, 44.0, 81.0, np.nan, 41.0],\n",
    "    'Label': ['Harvest', 'Harvest', 'Columbia', 'Harvest', np.nan],\n",
    "    'Grammy Nominations': [1, np.nan, 6, 1, np.nan],\n",
    "    'Critics Score': [9.5, 9.2, np.nan, 8.7, 8.9],\n",
    "    'Recording Start': ['1972-06-01', np.nan, '1978-01-01', '1976-04-01', '1976-04-01']\n",
    "}\n",
    "\n",
    "# Converting date columns to datetime\n",
    "data['Release Date'] = pd.to_datetime(data['Release Date'], errors='coerce')\n",
    "data['Recording Start'] = pd.to_datetime(data['Recording Start'], errors='coerce')\n",
    "\n",
    "# Creating the DataFrame\n",
    "pink_floyd_df = pd.DataFrame(data)\n",
    "pink_floyd_df.to_pickle(datapath+'pnk.pkl')\n",
    "pink_floyd_df.to_excel(datapath+'pnk.xlsx')\n",
    "pink_floyd_df.to_csv(datapath+'pnk.csv')\n",
    "pink_floyd_df.to_feather(datapath+'pnk.feather')\n"
   ],
   "metadata": {
    "collapsed": false,
    "ExecuteTime": {
     "end_time": "2024-09-16T07:58:53.373026700Z",
     "start_time": "2024-09-16T07:58:53.304672500Z"
    }
   },
   "id": "b52f96d18296f7d6",
   "execution_count": 10
  },
  {
   "cell_type": "code",
   "outputs": [],
   "source": [],
   "metadata": {
    "collapsed": false
   },
   "id": "33c0ac0878e69b37"
  }
 ],
 "metadata": {
  "kernelspec": {
   "display_name": "Python 3",
   "language": "python",
   "name": "python3"
  },
  "language_info": {
   "codemirror_mode": {
    "name": "ipython",
    "version": 2
   },
   "file_extension": ".py",
   "mimetype": "text/x-python",
   "name": "python",
   "nbconvert_exporter": "python",
   "pygments_lexer": "ipython2",
   "version": "2.7.6"
  }
 },
 "nbformat": 4,
 "nbformat_minor": 5
}
